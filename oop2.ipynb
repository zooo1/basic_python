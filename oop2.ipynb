{
 "cells": [
  {
   "cell_type": "code",
   "execution_count": null,
   "metadata": {},
   "outputs": [],
   "source": [
    "from IPython.display import IFrame"
   ]
  },
  {
   "cell_type": "markdown",
   "metadata": {},
   "source": [
    "# OOP with Python\n",
    "\n",
    "## 용어 정리\n",
    "\n",
    "```python\n",
    "class Person:                      #=> 클래스 정의(선언) : 클래스 객체 생성\n",
    "    name = '홍길동'                  #=> 클래스 변수(데이터 어트리뷰트)\n",
    "    def greeting(self):            #=> 멤버 메서드(메서드)\n",
    "        print(f'{self.name}')\n",
    "```\n",
    "    \n",
    "    \n",
    "```python\n",
    "iu = Person()       # 인스턴스 객체 생성\n",
    "daniel = Person()   # 인스턴스 객체 생성\n",
    "iu.name             # 데이터 어트리뷰트 호출\n",
    "iu.greeting()       # 메서드 호출\n",
    "```"
   ]
  },
  {
   "cell_type": "code",
   "execution_count": null,
   "metadata": {},
   "outputs": [],
   "source": [
    "class Person:                   \n",
    "    num_of_people = 0 # 모든 객체가 공유해야할 정보를 넣는다.\n",
    "    \n",
    "    def __init__(self,input_name): # 객체가 생성될 때마다 불리는 함수\n",
    "        self.name2 = input_name   # 각각의 객체가 가지는 정보를 넣는다. # self.~~ 는 instance variable! \n",
    "        Person.num_of_people +=1  # 이름 공간을 적시해주어야한다. \n",
    "    \n",
    "    def greeting(self):         \n",
    "        print(f'{self.name2}')\n",
    "\n",
    "print(Person.num_of_people)        \n",
    "iu = Person('iu')\n",
    "suzi = Person('suzi')\n",
    "print(Person.num_of_people)\n",
    "# iu = Person('iu')\n",
    "# suzi = Person('suzi')\n",
    "# rm = Person('rm')\n",
    "\n",
    "# print(iu.name,suzi.name, rm.name)\n",
    "# print(iu.name2, suzi.name2)\n",
    "# print(Pesron.name)"
   ]
  },
  {
   "cell_type": "markdown",
   "metadata": {},
   "source": [
    "* 클래스와 인스턴스간의 관계를 확인해봅시다."
   ]
  },
  {
   "cell_type": "code",
   "execution_count": null,
   "metadata": {},
   "outputs": [],
   "source": [
    "isinstance(iu, object)"
   ]
  },
  {
   "cell_type": "markdown",
   "metadata": {},
   "source": [
    "##  `self` : 인스턴스 객체 자기자신\n",
    "\n",
    "* C++ 혹은 자바에서의 this 키워드와 동일함. \n",
    "\n",
    "* 특별한 상황을 제외하고는 무조건 메서드에서 `self`를 첫번째 인자로 설정한다.\n",
    "\n",
    "* 메서드는 인스턴스 객체가 함수의 첫번째 인자로 전달되도록 되어있다."
   ]
  },
  {
   "cell_type": "code",
   "execution_count": null,
   "metadata": {},
   "outputs": [],
   "source": [
    "# iu를 다시 인사시켜봅시다.\n",
    "iu.greeting()"
   ]
  },
  {
   "cell_type": "code",
   "execution_count": null,
   "metadata": {},
   "outputs": [],
   "source": [
    "# 다르게 인사를 시킬 수도 있습니다.\n",
    "# 실제로 이렇게 호출이 되는 것과 동일하기에 반드시 self로서 인스턴스 자기자신을 표현해야합니다.\n",
    "iu.greeting()\n",
    "Person.greeting(iu)\n"
   ]
  },
  {
   "cell_type": "markdown",
   "metadata": {},
   "source": [
    "* 클래스 선언부 내부에서도 반드시 self를 통해 데이터 어트리뷰트에 접근 해야 합니다."
   ]
  },
  {
   "cell_type": "code",
   "execution_count": null,
   "metadata": {},
   "outputs": [],
   "source": [
    "# 예시를 봅시다.\n",
    "name = '?'\n",
    "\n",
    "class Person:\n",
    "    # name = '홍길동'\n",
    "    \n",
    "    def greeting(self):\n",
    "        print(f'{name}')"
   ]
  },
  {
   "cell_type": "code",
   "execution_count": null,
   "metadata": {},
   "outputs": [],
   "source": [
    "iu = Person()\n",
    "iu.name\n"
   ]
  },
  {
   "cell_type": "markdown",
   "metadata": {},
   "source": [
    "## 클래스-인스턴스간의 이름공간\n",
    "\n",
    "* 클래스를 정의하면, 클래스 객체가 생성되고 해당되는 이름 공간이 생성된다. \n",
    "\n",
    "* 인스턴스를 만들게 되면, 인스턴스 객체가 생성되고 해당되는 이름 공간이 생성된다. \n",
    "\n",
    "* 인스턴스의 어트리뷰트가 변경되면, 변경된 데이터를 인스턴스 객체 이름 공간에 저장한다.\n",
    "\n",
    "* 즉, 인스턴스에서 특정한 어트리뷰트에 접근하게 되면 인스턴스 -> 클래스 순으로 탐색을 한다."
   ]
  },
  {
   "cell_type": "code",
   "execution_count": null,
   "metadata": {},
   "outputs": [],
   "source": []
  },
  {
   "cell_type": "code",
   "execution_count": null,
   "metadata": {},
   "outputs": [],
   "source": [
    "# 아래의 Python Tutor를 통해 순차적으로 확인해봅시다.\n",
    "IFrame('https://goo.gl/ZgNaXB', width='100%', height='300px')"
   ]
  },
  {
   "cell_type": "markdown",
   "metadata": {},
   "source": [
    "## 생성자 / 소멸자\n",
    "\n",
    "* 생성자는 인스턴스 객체가 생성될 때 호출되는 함수이며, 소멸자는 객체가 소멸되는 과정에서 호출되는 함수입니다.\n",
    "\n",
    "```python\n",
    "def __init__(self):\n",
    "    print('생성될 때 자동으로 호출되는 메서드입니다.')\n",
    "    \n",
    "def __del__(self):\n",
    "    print('소멸될 때 자동으로 호출되는 메서드입니다.')\n",
    "```\n",
    "\n",
    "```\n",
    "__someting__\n",
    "```\n",
    "\n",
    "위의 형식처럼 양쪽에 언더스코어가 있는 메서드를 스페셜 메서드 혹은 매직 메서드라고 불립니다."
   ]
  },
  {
   "cell_type": "code",
   "execution_count": null,
   "metadata": {},
   "outputs": [],
   "source": [
    "class Person:\n",
    "    def __init__(self):\n",
    "        print(\"응애\")\n",
    "        \n",
    "    def __del__(self):\n",
    "        print(\"쥬금\")"
   ]
  },
  {
   "cell_type": "code",
   "execution_count": null,
   "metadata": {},
   "outputs": [],
   "source": [
    "#  생성시켜봅시다.\n",
    "p1 = Person()\n",
    "p1 = Person()"
   ]
  },
  {
   "cell_type": "code",
   "execution_count": null,
   "metadata": {},
   "outputs": [],
   "source": [
    "# 소멸시켜봅시다. \n",
    "del p1"
   ]
  },
  {
   "cell_type": "markdown",
   "metadata": {},
   "source": [
    "* 생성자 역시 메소드이기 때문에 추가적인 인자를 받을 수 있습니다."
   ]
  },
  {
   "cell_type": "code",
   "execution_count": null,
   "metadata": {},
   "outputs": [],
   "source": [
    "# 생성자에서 이름을 추가적으로 받아서 출력해봅시다.\n",
    "class Person:\n",
    "    def __init__(self, name):\n",
    "        print(f\"응애응애, {name}\")"
   ]
  },
  {
   "cell_type": "code",
   "execution_count": null,
   "metadata": {},
   "outputs": [],
   "source": [
    "# 홍길동이라는 이름을 가진 hong 을 만들어봅시다.\n",
    "hong = Person('홍홍')"
   ]
  },
  {
   "cell_type": "markdown",
   "metadata": {},
   "source": [
    "* 아래와 같이 모두 사용할 수 있습니다!\n",
    "\n",
    "```python\n",
    "def __init__(self, parameter1, parameter2):\n",
    "    print('생성될 때 자동으로 호출되는 메서드입니다.')\n",
    "    print(parameter1)\n",
    "\n",
    "def __init__(self, *args):\n",
    "    print('생성될 때 자동으로 호출되는 메서드입니다.')\n",
    "\n",
    "def __init__(self, **kwagrs):\n",
    "    print('생성될 때 자동으로 호출되는 메서드입니다.')\n",
    "```"
   ]
  },
  {
   "cell_type": "markdown",
   "metadata": {},
   "source": [
    "* 따라서, 생성자는 값을 초기화하는 과정에서 자주 활용됩니다. \n",
    "\n",
    "* 아래의 클래스 변수와 인스턴스 변수를 통해 확인해보겠습니다."
   ]
  },
  {
   "cell_type": "markdown",
   "metadata": {},
   "source": [
    "## 클래스 변수 / 인스턴스 변수\n",
    "\n",
    "```python\n",
    "class Person:\n",
    "    population = 0              # 클래스 변수 : 모든 인스턴스가 공유함.\n",
    "    \n",
    "    def __init__(self, name):   \n",
    "        self.name = name        # 인스턴스 변수 : 인스턴스별로 각각 가지는 변수\n",
    "```        "
   ]
  },
  {
   "cell_type": "code",
   "execution_count": null,
   "metadata": {},
   "outputs": [],
   "source": [
    "# 위의 생성자와 인사하는 메소드를 만들어봅시다. \n",
    "class Person:\n",
    "    population =0\n",
    "    def __init__(self,name):\n",
    "        self.name = name\n",
    "        Person.population +=1\n",
    "    def __del__(self):\n",
    "        Person.population -=1"
   ]
  },
  {
   "cell_type": "code",
   "execution_count": null,
   "metadata": {},
   "outputs": [],
   "source": [
    "# 본인의 이름을 가진 인스턴스를 만들어봅시다.\n",
    "zooo1 = Person(\"zooo1\")"
   ]
  },
  {
   "cell_type": "code",
   "execution_count": null,
   "metadata": {},
   "outputs": [],
   "source": [
    "# 이름을 출력해봅시다.\n",
    "print(zooo1.name)"
   ]
  },
  {
   "cell_type": "code",
   "execution_count": null,
   "metadata": {},
   "outputs": [],
   "source": [
    "# 옆자리 친구의 이름을 가진 인스턴스를 만들어봅시다.\n",
    "haewon = Person('haewon')"
   ]
  },
  {
   "cell_type": "code",
   "execution_count": null,
   "metadata": {},
   "outputs": [],
   "source": [
    "# 이름을 출력해봅시다.\n",
    "print(haewon.name)"
   ]
  },
  {
   "cell_type": "code",
   "execution_count": null,
   "metadata": {},
   "outputs": [],
   "source": [
    "# population을 출력해봅시다.\n",
    "print(Person.population)"
   ]
  },
  {
   "cell_type": "code",
   "execution_count": null,
   "metadata": {},
   "outputs": [],
   "source": [
    "# 물론, 인스턴스도 접근 가능합니다. 왜일까요?!\n",
    "print(zooo1.population)\n",
    "# 이름공간"
   ]
  },
  {
   "cell_type": "markdown",
   "metadata": {},
   "source": [
    "## 정적 메서드 / 클래스 메서드: 모든 인스턴스가 공유하는 친구(~= 클래스 변수)\n",
    "\n",
    "* 메서드 호출을 인스턴스가 아닌 클래스가 할 수 있도록 구성할 수 있습니다. \n",
    "\n",
    "* 이때 활용되는게 정적 메서드 혹은 클래스 메서드입니다.\n",
    "\n",
    "* 정적 메소드는 객체(인스턴스)가 전달되지 않은 형태이며, 클래스 메서드는 인자로 클래스를 넘겨준다.\n",
    "\n",
    "* 인스턴스 메서드는 인자로 **(인스턴스)**를 넘겨준다. \n",
    "\n",
    "\n",
    "## 멤머 메서드, 인스턴스 메서드: 특정 인스턴스에서만 속한 메서드(~= 인스턴스 변수 )\n",
    "\n"
   ]
  },
  {
   "cell_type": "code",
   "execution_count": null,
   "metadata": {
    "scrolled": true
   },
   "outputs": [],
   "source": [
    "# Person 클래스가 인사할 수 있는지 확인해보겠습니다.\n",
    "class Person:\n",
    "    population =0\n",
    "    \n",
    "    def __init__(self,name):\n",
    "        self.name = name\n",
    "        Person.population += 1\n",
    "        \n",
    "    def greeting(self): # 인스턴스 메서드\n",
    "        print(f\"안녕하세요. {self.name}입니다.\")\n",
    "        \n",
    "    @staticmethod  #클래스 데이터를 쓰지 않는 순수한 메서드들\n",
    "    def info():\n",
    "        print(\"사람입니다.\")\n",
    "     \n",
    "    @classmethod  # 클래스의 데이터를 사용하는 메서드들 \n",
    "    def count(cls): #class를 넘겨준다.\n",
    "        print(f\"현재 인구수는 {cls.population}명 입니다.\")\n",
    "        \n",
    "\n",
    "me = Person(\"john\")\n",
    "me.greeting()\n",
    "Person.greeting(me)\n",
    "Person.info()\n",
    "Person.count() "
   ]
  },
  {
   "cell_type": "code",
   "execution_count": null,
   "metadata": {},
   "outputs": [],
   "source": [
    "# 이번에는 Dog class를 만들어보겠습니다.\n",
    "# 클래스 변수 num_of_dogs 통해 개가 생성될 때마다 증가시키도록 하겠습니다. \n",
    "# 개들은 각자의 이름과 나이를 가지고 있습니다. \n",
    "# 그리고 bark() 메서드를 통해 짖을 수 있습니다. \n",
    "class Dog:\n",
    "    num_of_dogs =0\n",
    "    \n",
    "    def __init__(self,name,age):\n",
    "        self.name = name\n",
    "        self.age = age\n",
    "        Dog.num_of_dogs += 1\n",
    "    \n",
    "    def bark(self):\n",
    "        print(f\"왈! {self.name} 왈! {self.age}\")\n",
    "        \n",
    "    @staticmethod\n",
    "    def info():\n",
    "        print(\"강아지입니다.\")\n"
   ]
  },
  {
   "cell_type": "code",
   "execution_count": null,
   "metadata": {},
   "outputs": [],
   "source": [
    "# 각각 이름과 나이가 다른 인스턴스를 3개 만들어봅시다.\n",
    "ddubi = Dog('ddubi', 9)\n",
    "bbobi = Dog('bbobi', 10)\n",
    "jangguni = Dog('janggun', 7)\n",
    "\n",
    "print(Dog.num_of_dogs)\n",
    "bbobi.bark()\n",
    "Dog.info()\n",
    "ddubi.info()\n"
   ]
  },
  {
   "cell_type": "markdown",
   "metadata": {},
   "source": [
    "* staticmethod는 다음과 같이 정의됩니다.\n",
    "\n",
    "```python\n",
    "\n",
    "@staticmethod\n",
    "def methodname():\n",
    "    codeblock\n",
    "```"
   ]
  },
  {
   "cell_type": "code",
   "execution_count": null,
   "metadata": {},
   "outputs": [],
   "source": [
    "# 단순한 static method를 만들어보겠습니다.\n"
   ]
  },
  {
   "cell_type": "code",
   "execution_count": null,
   "metadata": {},
   "outputs": [],
   "source": [
    "# 3마리를 만들어보고,\n"
   ]
  },
  {
   "cell_type": "code",
   "execution_count": null,
   "metadata": {},
   "outputs": [],
   "source": []
  },
  {
   "cell_type": "markdown",
   "metadata": {},
   "source": [
    "* classmethod는 다음과 같이 정의됩니다.\n",
    "\n",
    "```python\n",
    "\n",
    "@classmethod\n",
    "def methodname(cls):\n",
    "    codeblock\n",
    "```"
   ]
  },
  {
   "cell_type": "code",
   "execution_count": null,
   "metadata": {},
   "outputs": [],
   "source": [
    "# 개의 숫자를 출력하는 classmethod를 만들어보겠습니다.\n"
   ]
  },
  {
   "cell_type": "code",
   "execution_count": null,
   "metadata": {},
   "outputs": [],
   "source": [
    "# 3마리를 만들어보고,\n"
   ]
  },
  {
   "cell_type": "code",
   "execution_count": null,
   "metadata": {
    "scrolled": true
   },
   "outputs": [],
   "source": []
  },
  {
   "cell_type": "markdown",
   "metadata": {},
   "source": [
    "## 실습문제 - 정적 메소드\n",
    "\n",
    "> 계산기 class인 `Calculator`를 만들어봅시다.\n",
    "\n",
    "* 정적 메소드 : 두 수를 받아서 각각의 연산을 한 결과를 반환(return)\n",
    "\n",
    "    1. `add()` : 덧셈\n",
    "    \n",
    "    2. `sub()` : 뺄셈 \n",
    "    \n",
    "    3. `mul()` : 곱셈\n",
    "    \n",
    "    4. `div()` : 나눗셈\n"
   ]
  },
  {
   "cell_type": "code",
   "execution_count": null,
   "metadata": {},
   "outputs": [],
   "source": [
    "# 아래에 코드를 작성해주세요.\n",
    "class Calculator: \n",
    "    \n",
    "    @staticmethod  # 클래스와 인스턴스와 상관 없는 operation을 함수로 정의해서 만들 때 \n",
    "    def add(a,b):\n",
    "        return a + b\n",
    "    def sub(a,b):\n",
    "        return a - b\n",
    "    def mul(a,b):\n",
    "        return a * b \n",
    "    def div(a,b):\n",
    "        return a / b\n",
    "    \n",
    "        "
   ]
  },
  {
   "cell_type": "code",
   "execution_count": null,
   "metadata": {},
   "outputs": [],
   "source": [
    "Calculator.mul(1,1)\n",
    "\n",
    "str.__add__(\"hello\",\" word\")"
   ]
  },
  {
   "cell_type": "markdown",
   "metadata": {},
   "source": [
    "## 실습문제 - 종합1\n",
    "\n",
    "> 사실 이전에 작성한 Mylist는 완벽하지 않았습니다. \n",
    ">\n",
    "> 한번 제대로 된 자료구조를 만들어보겠습니다. \n",
    ">\n",
    "> `Stack` 클래스를 간략하게 구현해봅시다.\n",
    "\n",
    "> [Stack](https://ko.wikipedia.org/wiki/%EC%8A%A4%ED%83%9D) : 스택은 LIFO(Last in First Out)으로 구조화된 자료구조를 뜻합니다.\n",
    "\n",
    "1. `empty()`: 스택이 비었다면 참을 주고,그렇지 않다면 거짓이 된다.\n",
    "\n",
    "2. `top()`: 스택의 가장 마지막 데이터를 넘겨준다. 스택이 비었다면 None을 리턴해주세요.\n",
    "\n",
    "3. `pop()`: 스택의 가장 마지막 데이터의 값을 넘겨주고 해당 데이터를 삭제한다. 스택이 비었다면 None을 리턴해주세요.\n",
    "\n",
    "4. `push()`: 스택의 가장 마지막 데이터 뒤에 값을 추가한다. 리턴값 없음\n",
    "\n",
    "**다 완료하신 분들은 __repr__을 통해 예쁘게 출력까지 해봅시다.**"
   ]
  },
  {
   "cell_type": "code",
   "execution_count": null,
   "metadata": {},
   "outputs": [],
   "source": [
    "# 여기에 코드를 작성해주세요.\n",
    "class Stack:\n",
    "    def __init__(self):\n",
    "        self.items = []\n",
    "        \n",
    "    def empty(self):\n",
    "        return self.items\n",
    "    \n",
    "    def top(self):\n",
    "        if self.items:\n",
    "            return self.items[-1]\n",
    "    \n",
    "    def pop(self):\n",
    "        if self.items:\n",
    "            elem = self.items.pop()\n",
    "            return elem\n",
    "    \n",
    "    def push(self, elem):\n",
    "        self.items.append(elem)\n",
    "        \n",
    "    def __repr__(self):\n",
    "        return '스택 : ' + ','.join(self.items)"
   ]
  },
  {
   "cell_type": "code",
   "execution_count": null,
   "metadata": {},
   "outputs": [],
   "source": [
    "# 인스턴스를 하나 만들고 메소드 조작을 해봅시다.\n",
    "s1 = Stack()"
   ]
  },
  {
   "cell_type": "code",
   "execution_count": null,
   "metadata": {},
   "outputs": [],
   "source": [
    "s1.push('hi')"
   ]
  },
  {
   "cell_type": "code",
   "execution_count": null,
   "metadata": {},
   "outputs": [],
   "source": [
    "print(s1)"
   ]
  },
  {
   "cell_type": "code",
   "execution_count": null,
   "metadata": {},
   "outputs": [],
   "source": [
    "s1"
   ]
  },
  {
   "cell_type": "markdown",
   "metadata": {},
   "source": [
    "## 연산자 오버라이딩(중복 정의)\n",
    "\n",
    "* 파이썬에 기본적으로 정의된 연산자를 직접적으로 정의하여 활용할 수 있습니다. \n",
    "\n",
    "* 몇가지만 소개하고 활용해봅시다.\n",
    "\n",
    "```\n",
    "+  __add__   \n",
    "-  __sub__\n",
    "*  __mul__\n",
    "<  __lt__\n",
    "<= __le__\n",
    "== __eq__\n",
    "!= __ne__\n",
    ">= __ge__\n",
    ">  __gt__\n",
    "```"
   ]
  },
  {
   "cell_type": "code",
   "execution_count": null,
   "metadata": {},
   "outputs": [],
   "source": [
    "# 사람과 사람을 같은지 비교하면, 이는 나이가 같은지 비교한 결과를 반환하도록 만들어봅시다.\n",
    "class Person:\n",
    "    population = 0\n",
    "    \n",
    "    def __init__(self, name, age):\n",
    "        self.name = name\n",
    "        self.age = age\n",
    "        Person.population += 1\n",
    "        \n",
    "    def greeting(self):\n",
    "        print(f'{self.name}입니다. 만나서 반가워요')\n",
    "        \n",
    "    def __gt__(self, other):\n",
    "        if self.age > other.age:\n",
    "            return '왼쪽이 나이 더 많아'\n",
    "        else:\n",
    "            return '오른쪽이 나이 더 많아'\n",
    "    \n",
    "    def __eq__(self,other):\n",
    "        if self.name == other.name:\n",
    "            return '이름이 같네요.'\n",
    "        else:\n",
    "            return '이름이 다르네요.'"
   ]
  },
  {
   "cell_type": "code",
   "execution_count": null,
   "metadata": {},
   "outputs": [],
   "source": [
    "# 연산자를 호출해봅시다.\n",
    "p1 = Person('아저씨', 40)\n",
    "p2 = Person('아저씨', 49)\n",
    "p3 = Person('아주머니', 54)\n",
    "\n",
    "#p2 == p3\n",
    "\n",
    "Person.__eq__(p2,p1)"
   ]
  },
  {
   "cell_type": "code",
   "execution_count": null,
   "metadata": {},
   "outputs": [],
   "source": [
    "# 원하는 연산자를 사람과 사람을 비교해보세요."
   ]
  },
  {
   "cell_type": "code",
   "execution_count": null,
   "metadata": {},
   "outputs": [],
   "source": [
    "# 파이썬 내부를 살펴봅시다.\n",
    "print(1 + 3)\n",
    "print('1' + '3')\n",
    "# 이렇게 + 연산자가 서로 다르게 활용될 수 있는 이유는 파이썬 내부적으로 각각 다른 클래스마다 다른 정의가 있기 때문입니다."
   ]
  },
  {
   "cell_type": "markdown",
   "metadata": {},
   "source": [
    "# 상속 \n",
    "\n",
    "## 기초\n",
    "\n",
    "* 클래스에서 가장 큰 특징은 '상속' 기능을 가지고 있다는 것이다. \n",
    "\n",
    "* 부모 클래스의 모든 속성이 자식 클래스에게 상속 되므로 코드재사용성이 높아집니다.\n",
    "\n",
    "```python\n",
    "class DerivedClassName(BaseClassName):\n",
    "    code block\n",
    "```"
   ]
  },
  {
   "cell_type": "code",
   "execution_count": null,
   "metadata": {},
   "outputs": [],
   "source": [
    "# 인사만 할 수 있는 간단한 사람 클래스를 만들어봅시다.\n",
    "class Person:\n",
    "    def __init__(self, name):\n",
    "        self.name = name\n",
    "        \n",
    "    def greeting(self):\n",
    "        print(f'{self.name} 입니다.')"
   ]
  },
  {
   "cell_type": "code",
   "execution_count": null,
   "metadata": {},
   "outputs": [],
   "source": [
    "# 사람 클래스를 상속받아 학생 클래스를 만들어봅시다.\n",
    "class Student(Person):\n",
    "    def __init__(self, name, student_id):\n",
    "        self.name = name\n",
    "        self.student_id = student_id\n",
    "class Dog:\n",
    "    def __init__(self,name):\n",
    "        self.name = name\n",
    "    "
   ]
  },
  {
   "cell_type": "code",
   "execution_count": null,
   "metadata": {},
   "outputs": [],
   "source": [
    "# 학생을 만들어봅시다.\n",
    "s1 = Student('민교', '12311')\n",
    "d1 = Dog('댕댕스')\n",
    "\n",
    "#  instance -> class -> 부모 instance -> Person class"
   ]
  },
  {
   "cell_type": "code",
   "execution_count": null,
   "metadata": {},
   "outputs": [],
   "source": [
    "# 부모 클래스에 정의를 했음에도 메소드를 호출 할 수 있습니다.\n",
    "s1.greeting()\n",
    "d1.bark()"
   ]
  },
  {
   "cell_type": "markdown",
   "metadata": {},
   "source": [
    "* 이처럼 상속은 공통된 속성이나 메소드를 부모 클래스에 정의하고, 이를 상속받아 다양한 형태의 사람들을 만들 수 있습니다."
   ]
  },
  {
   "cell_type": "code",
   "execution_count": null,
   "metadata": {},
   "outputs": [],
   "source": [
    "# 진짜 상속관계인지 확인해봅시다.\n",
    "issubclass(Person, Student)"
   ]
  },
  {
   "cell_type": "code",
   "execution_count": null,
   "metadata": {},
   "outputs": [],
   "source": [
    "issubclass(Student, Person)"
   ]
  },
  {
   "cell_type": "markdown",
   "metadata": {},
   "source": [
    "## super()\n",
    "\n",
    "* 자식 클래스에 메서드를 추가 구현할 수 있습니다.\n",
    "\n",
    "* 부모 클래스의 내용을 사용하고자 할 때, `super()`를 사용할 수 있습니다."
   ]
  },
  {
   "cell_type": "code",
   "execution_count": null,
   "metadata": {},
   "outputs": [],
   "source": [
    "class Person:\n",
    "    def __init__(self, name, age, number, email):\n",
    "        self.name = name\n",
    "        self.age = age\n",
    "        self.number = number\n",
    "        self.email = email \n",
    "        \n",
    "    def greeting(self):\n",
    "        print(f'안녕, {self.name}')\n",
    "        \n",
    "class Student(Person):\n",
    "    def __init__(self, name, age, number, email, student_id):\n",
    "        self.name = name\n",
    "        self.age = age\n",
    "        self.number = number\n",
    "        self.email = email \n",
    "        self.student_id = student_id\n",
    "        \n",
    "p1 = Person('홍길동', 200, '0101231234', 'hong@gildong')\n",
    "s1 = Student('학생', 20, '12312312', 'student@naver.com', '190000')"
   ]
  },
  {
   "cell_type": "markdown",
   "metadata": {},
   "source": [
    "* 위의 코드를 보면, 상속을 했음에도 불구하고 동일한 코드가 반복됩니다. "
   ]
  },
  {
   "cell_type": "code",
   "execution_count": null,
   "metadata": {},
   "outputs": [],
   "source": [
    "# 이를 수정해봅시다.\n",
    "class Person:\n",
    "    def __init__(self, name, age, number, email):\n",
    "        self.name = name\n",
    "        self.age = age\n",
    "        self.number = number\n",
    "        self.email = email \n",
    "        \n",
    "    def greeting(self):\n",
    "        print(f'안녕, 난 {self.name}')\n",
    "        \n",
    "class Student(Person):\n",
    "    def __init__(self, name, age, number, email, student_id):\n",
    "        super().__init__(name, age, number, email)\n",
    "        # Person().__init__(name, age, number, email)\n",
    "        self.student_id = student_id\n",
    "        \n",
    "p1 = Person('홍길동', 200, '0101231234', 'hong@gildong')\n",
    "s1 = Student('학생', 20, '12312312', 'student@naver.com', '190000')"
   ]
  },
  {
   "cell_type": "markdown",
   "metadata": {},
   "source": [
    "## 메소드 오버라이딩\n",
    "\n",
    "* 메서드를 재정의할 수도 있습니다."
   ]
  },
  {
   "cell_type": "code",
   "execution_count": null,
   "metadata": {},
   "outputs": [],
   "source": [
    "# 학생은 공손하게 이야기를 해봅시다.\n",
    "class Student(Person):\n",
    "    def __init__(self, name, age, number, email, student_id):\n",
    "        super().__init__(name, age, number, email)\n",
    "        self.student_id = student_id\n",
    "        \n",
    "    def greeting(self):\n",
    "        print(f'안녕하세요, {self.name}입니다.')"
   ]
  },
  {
   "cell_type": "code",
   "execution_count": null,
   "metadata": {},
   "outputs": [],
   "source": [
    "s1 = Student('학생', 20, '12312312', 'student@naver.com', '190000')\n",
    "s1.greeting()"
   ]
  },
  {
   "cell_type": "markdown",
   "metadata": {},
   "source": [
    "## 상속관계에서의 이름공간\n",
    "\n",
    "* 기존에 인스턴스 -> 클래스순으로 이름 공간을 탐색해나가는 과정에서 상속관계에 있으면 아래와 같이 확장됩니다.\n",
    "\n",
    "* 인스턴스 -> 자식 클래스 -> 부모 클래스 -> 전역"
   ]
  },
  {
   "cell_type": "markdown",
   "metadata": {},
   "source": [
    "## 실습1 \n",
    "\n",
    "> Teacher 클래스를 만들어보고 Student와 Teacher 클래스에 각각 다른 행동의 메소드들을 하나씩 추가해봅시다."
   ]
  },
  {
   "cell_type": "code",
   "execution_count": null,
   "metadata": {},
   "outputs": [],
   "source": [
    "# 아래에 코드를 작성해주세요.\n",
    "class Teacher(Person):\n",
    "    def __init__(self,name,age,number,email, subject):\n",
    "        super().__init__(name,age,number,email)\n",
    "        self.subject = subject\n",
    "        \n",
    "    def greeting(self):\n",
    "        print(f\"나는 {self.subject}를 가르친다.\")\n",
    "\n",
    "dj = Teacher('동주', 34, 12345,'123@gmail.com','python')\n",
    "dj.greeting()\n",
    "\n",
    "class Student(Teacher):\n",
    "    def __init__(self, name, age, number, email, major):\n",
    "        Teacher.__init__(name,age,number,email,subject):\n",
    "        self.major = major"
   ]
  },
  {
   "cell_type": "code",
   "execution_count": null,
   "metadata": {},
   "outputs": [],
   "source": [
    "class Teacher(Person):\n",
    "    \n",
    "class MasterTeacher(Teacher,Person):\n",
    "    def __init__(self):\n",
    "        Person().__init__(self,~~)"
   ]
  },
  {
   "cell_type": "markdown",
   "metadata": {},
   "source": [
    "## 실습2\n",
    "\n",
    "> 사실 사람은 포유류입니다. \n",
    ">\n",
    "> Animal Class를 만들고, Person클래스가 상속받도록 구성해봅시다.\n",
    ">\n",
    "> 변수나, 메소드는 자유롭게 만들어봅시다."
   ]
  },
  {
   "cell_type": "code",
   "execution_count": null,
   "metadata": {},
   "outputs": [],
   "source": [
    "# 아래에 코드를 작성해주세요."
   ]
  }
 ],
 "metadata": {
  "kernelspec": {
   "display_name": "Python 3",
   "language": "python",
   "name": "python3"
  },
  "language_info": {
   "codemirror_mode": {
    "name": "ipython",
    "version": 3
   },
   "file_extension": ".py",
   "mimetype": "text/x-python",
   "name": "python",
   "nbconvert_exporter": "python",
   "pygments_lexer": "ipython3",
   "version": "3.7.1"
  },
  "latex_envs": {
   "LaTeX_envs_menu_present": true,
   "autoclose": false,
   "autocomplete": true,
   "bibliofile": "biblio.bib",
   "cite_by": "apalike",
   "current_citInitial": 1,
   "eqLabelWithNumbers": true,
   "eqNumInitial": 1,
   "hotkeys": {
    "equation": "Ctrl-E",
    "itemize": "Ctrl-I"
   },
   "labels_anchors": false,
   "latex_user_defs": false,
   "report_style_numbering": false,
   "user_envs_cfg": false
  },
  "toc": {
   "base_numbering": 1,
   "nav_menu": {},
   "number_sections": true,
   "sideBar": true,
   "skip_h1_title": false,
   "title_cell": "Table of Contents",
   "title_sidebar": "Contents",
   "toc_cell": false,
   "toc_position": {},
   "toc_section_display": true,
   "toc_window_display": false
  }
 },
 "nbformat": 4,
 "nbformat_minor": 2
}
